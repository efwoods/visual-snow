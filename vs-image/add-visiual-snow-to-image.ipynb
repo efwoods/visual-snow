{
 "cells": [
  {
   "cell_type": "code",
   "execution_count": 16,
   "metadata": {},
   "outputs": [
    {
     "name": "stdout",
     "output_type": "stream",
     "text": [
      "Defaulting to user installation because normal site-packages is not writeable\n",
      "Requirement already satisfied: opencv-python in /Users/evanwoods/Library/Python/3.9/lib/python/site-packages (from -r requirements.txt (line 1)) (4.8.0.76)\n",
      "Requirement already satisfied: numpy in /Users/evanwoods/Library/Python/3.9/lib/python/site-packages (from -r requirements.txt (line 2)) (1.25.2)\n"
     ]
    }
   ],
   "source": [
    "!pip install -r requirements.txt"
   ]
  },
  {
   "cell_type": "code",
   "execution_count": 17,
   "metadata": {},
   "outputs": [],
   "source": [
    "import random\n",
    "import cv2\n",
    "import numpy as np"
   ]
  },
  {
   "cell_type": "code",
   "execution_count": 4,
   "metadata": {},
   "outputs": [],
   "source": [
    "\n",
    "\n",
    "def add_noise(img):\n",
    "\n",
    "    # Getting the dimensions of the image\n",
    "    row, col, dim = img.shape\n",
    "    img = color_pixel(row, col, img)\n",
    "    return img\n",
    "\n",
    "def color_pixel(row, col, img):\n",
    "    \"\"\"\n",
    "    Randomly pick some pixels in the image for coloring them white.\n",
    "    Pick a random number between 300 and 10000.\n",
    "    \"\"\"\n",
    "    \n",
    "    number_of_pixels = random.randint(300, 10000)\n",
    "    for i in range(number_of_pixels):\n",
    "        # Pick a random y coordinate\n",
    "        y_coord=random.randint(0, row-1)\n",
    "\n",
    "        # Pick a random x coordinate\n",
    "        x_coord=random.randint(0, col -1)\n",
    "        \n",
    "        # Pick a random Blue:\n",
    "        blue = random.randint(0, 255)\n",
    "        \n",
    "        # Pick a random Green\n",
    "        green = random.randint(0, 255)\n",
    "        \n",
    "        # Pick a random Red\n",
    "        red = random.randint(0, 255)\n",
    "        color = np.array([blue,green,red])\n",
    "\n",
    "        # Color that pixel\n",
    "        img[y_coord][x_coord] = color\n",
    "    \n",
    "    return img\n"
   ]
  },
  {
   "cell_type": "code",
   "execution_count": 5,
   "metadata": {},
   "outputs": [],
   "source": [
    "def color_image_black(row, col, img):\n",
    "    for r in range(row):\n",
    "        for c in range(col):\n",
    "            img[r][c] = np.array([0,0,0])\n",
    "    return img\n",
    "    "
   ]
  },
  {
   "cell_type": "code",
   "execution_count": 15,
   "metadata": {},
   "outputs": [
    {
     "data": {
      "text/plain": [
       "True"
      ]
     },
     "execution_count": 15,
     "metadata": {},
     "output_type": "execute_result"
    }
   ],
   "source": [
    "\n",
    "# adding salt-and-pepper noise to the grayscale imagea\n",
    "# Reading the color image in grayscale image\n",
    "img = cv2.imread('lena.jpg')\n",
    "\n",
    "# Adding vs and storing the image\n",
    "cv2.imwrite('visual-snow-lena-10.jpg', add_noise(img))"
   ]
  },
  {
   "cell_type": "code",
   "execution_count": 25,
   "metadata": {},
   "outputs": [
    {
     "data": {
      "text/plain": [
       "True"
      ]
     },
     "execution_count": 25,
     "metadata": {},
     "output_type": "execute_result"
    }
   ],
   "source": [
    "# Making the image entirely black to simulate vs with shut eyes\n",
    "img = cv2.imread('lena.jpg')\n",
    "row, col, dim = img.shape\n",
    "img = color_image_black(row, col, img)\n",
    "img = add_noise(img)\n",
    "cv2.imwrite('black-and-vs-1.jpg', img)"
   ]
  },
  {
   "cell_type": "code",
   "execution_count": null,
   "metadata": {},
   "outputs": [],
   "source": []
  }
 ],
 "metadata": {
  "kernelspec": {
   "display_name": "Python 3",
   "language": "python",
   "name": "python3"
  },
  "language_info": {
   "codemirror_mode": {
    "name": "ipython",
    "version": 3
   },
   "file_extension": ".py",
   "mimetype": "text/x-python",
   "name": "python",
   "nbconvert_exporter": "python",
   "pygments_lexer": "ipython3",
   "version": "3.9.6"
  },
  "orig_nbformat": 4
 },
 "nbformat": 4,
 "nbformat_minor": 2
}
